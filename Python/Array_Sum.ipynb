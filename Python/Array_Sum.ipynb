{
 "cells": [
  {
   "cell_type": "markdown",
   "metadata": {},
   "source": [
    "## EVEN SUM"
   ]
  },
  {
   "cell_type": "markdown",
   "metadata": {},
   "source": [
    "<p>Given an array of integers A, find and return the minimum elements to be removed such that in the resulting array the sum of any two adjacent values is even.<p/>\n",
    "<p>Approach: The sum of 2 numbers is even if either both of them is odd or both of them is even. This means for every pair of consecutive numbers that have the different parity, eliminate one of them.\n",
    "So, to make the adjacent elements sum even, either all elements should be odd or even. So the following greedy algorithm works:</p>\n",
    "<ul>\n",
    "<li>Go through all the elements in order.</li>\n",
    "<li>Count the odd and even elements in the array.</li>\n",
    "<li>Return the minimum count.</li>\n",
    "</ul>"
   ]
  },
  {
   "cell_type": "code",
   "execution_count": 2,
   "metadata": {},
   "outputs": [
    {
     "name": "stdout",
     "output_type": "stream",
     "text": [
      "2\n"
     ]
    }
   ],
   "source": [
    "# Python 3 implementation of the\n",
    "# above approach\n",
    "\n",
    "# Function to find minimum number of\n",
    "# eliminations such that sum of all\n",
    "# adjacent elements is even\n",
    "def min_elimination(n, arr):\n",
    "\tcountOdd = 0\n",
    "\n",
    "\t# Stores the new value\n",
    "\tfor i in range(n):\n",
    "\t\t\n",
    "\t\t# Count odd numbers\n",
    "\t\tif (arr[i] % 2):\n",
    "\t\t\tcountOdd += 1\n",
    "\n",
    "\t# Return the minimum of even and\n",
    "\t# odd count\n",
    "\treturn min(countOdd, n - countOdd)\n",
    "\n",
    "# Driver code\n",
    "if __name__ == '__main__':\n",
    "\tarr = [1, 2, 3, 5, 4]\n",
    "\tn = len(arr)\n",
    "\n",
    "\tprint(min_elimination(n, arr))\n",
    "\n",
    "# This code is contributed by\n",
    "# Surendra_Gangwar\n"
   ]
  },
  {
   "cell_type": "markdown",
   "metadata": {},
   "source": [
    "## ODD SUM"
   ]
  },
  {
   "cell_type": "markdown",
   "metadata": {},
   "source": [
    "<p>Given an array of integers A, find and return the minimum elements to be removed such that in the resulting array the sum of any two adjacent values is odd.<p/>\n",
    "<p>Approach:: The sum of 2 numbers is odd if one of them is odd and the other is even. This means for every pair of consecutive numbers that have the same parity, eliminate one of them, it doesn’t matter which. So the following greedy algorithm works: </p>\n",
    "<ul>\n",
    "<li>Go through all the elements in order.</li>\n",
    "<li>If the current number has the same parity as the previous one eliminate it, otherwise don’t.</li>\n",
    "</ul>"
   ]
  },
  {
   "cell_type": "code",
   "execution_count": 4,
   "metadata": {},
   "outputs": [
    {
     "name": "stdout",
     "output_type": "stream",
     "text": [
      "2\n"
     ]
    }
   ],
   "source": [
    "# Python3 implementation of the above approach\n",
    "\n",
    "# Returns the minimum number of eliminations\n",
    "def min_elimination(n, arr):\n",
    "\n",
    "\tcount = 0\n",
    "\n",
    "\t# Stores the previous element\n",
    "\tprev_val = arr[0]\n",
    "\n",
    "\t# Stores the new value\n",
    "\tfor i in range (1, n):\n",
    "\t\tcurr_val = arr[i]\n",
    "\n",
    "\t\t# Check if the previous and current\n",
    "\t\t# values are of same parity\n",
    "\t\tif (curr_val % 2 == prev_val % 2):   # we can safely make these two equal coz, for any odd number, if you divide by 2,     \n",
    "\t\t\tcount = count + 1                # it will give reminder as 1, coz if u divide 1 from any odd number, u will get an\n",
    "                                             # even number.\n",
    "\t\t# Previous value is now the current value\n",
    "\t\tprev_val = curr_val\n",
    "\t\n",
    "\n",
    "\t# Return the counter variable\n",
    "\treturn count\n",
    "\n",
    "# Driver code\n",
    "arr = [ 1, 2, 3, 7, 9 ]\n",
    "n = len(arr)\n",
    "\n",
    "print(min_elimination(n, arr));\n"
   ]
  },
  {
   "cell_type": "markdown",
   "metadata": {},
   "source": [
    "## sum( whole Arr[ ]) --> EVEN"
   ]
  },
  {
   "cell_type": "markdown",
   "metadata": {},
   "source": [
    "<p>Given an array Arr[ ] of N integers. We need to write a program to find minimum number of elements needed to be removed from the array, so that sum of remaining element is even. </p>\n",
    "<p>The idea to solve this problem is to first recall the below properties of ODDs and EVENs: </p>\n",
    "<ul>\n",
    "<li>odd + odd = even</li>\n",
    "<li>odd + even = odd</li>\n",
    "<li>even + even = even</li>\n",
    "<li>odd * even = even</li>\n",
    "<li>even * even = even</li>\n",
    "<li>odd * odd = odd</li>\n",
    "</ul>\n",
    "<p>Approach : So, we just need to make the sum of array elements even by removing some elements from the array if needed. We can notice that sum of any number of even numbers will always be even. But the sum of odd number of odd numbers is odd. That is, 3 + 3 + 3 = 9 this is odd but 3 + 3 + 3 + 3 = 12 which is even. So, we will have to just count the number of odd elements in the array. If the count of odd elements in the array is even then we do not need to remove any element from the array but if the count of odd elements in the array is odd then by removing any one of the odd elements from the array, the sum of the array will become even. </p>"
   ]
  },
  {
   "cell_type": "code",
   "execution_count": 4,
   "metadata": {},
   "outputs": [
    {
     "name": "stdout",
     "output_type": "stream",
     "text": [
      "1\n"
     ]
    }
   ],
   "source": [
    "# program to find minimum number\n",
    "# of elements to be removed to\n",
    "# make the sum even\n",
    "\n",
    "def findCount(arr, n):\n",
    "\n",
    "\tcount = 0\n",
    "\n",
    "\tfor i in range(0, n):\n",
    "\t\tif (arr[i] % 2 == 1):\n",
    "\t\t\t\n",
    "\t\t\t# counts only odd\n",
    "\t\t\t# numbers\n",
    "\t\t\tcount += -1\n",
    "\t\t\t\n",
    "\t# if the counter is\n",
    "\t# even return 0\n",
    "\t# otherwise return 1\n",
    "\tif (count % 2 == 0):\n",
    "\t\treturn 0\n",
    "\telse:\n",
    "\t\treturn 1\n",
    "\n",
    "# Driver Code\n",
    "arr = [7, 2, 4, 5, 2, 4, 3, 4]\n",
    "n = len(arr)\n",
    "\n",
    "print(findCount(arr, n))"
   ]
  }
 ],
 "metadata": {
  "interpreter": {
   "hash": "ac67a110c22b5a2dbfbee94e330edc65ab8c73ef4fe4729cecc84c9bf1ab600c"
  },
  "kernelspec": {
   "display_name": "Python 3.9.7 ('base')",
   "language": "python",
   "name": "python3"
  },
  "language_info": {
   "codemirror_mode": {
    "name": "ipython",
    "version": 3
   },
   "file_extension": ".py",
   "mimetype": "text/x-python",
   "name": "python",
   "nbconvert_exporter": "python",
   "pygments_lexer": "ipython3",
   "version": "3.9.7"
  },
  "orig_nbformat": 4
 },
 "nbformat": 4,
 "nbformat_minor": 2
}
