{
 "cells": [
  {
   "cell_type": "markdown",
   "metadata": {},
   "source": [
    "#### Basic pattern"
   ]
  },
  {
   "cell_type": "code",
   "execution_count": 8,
   "metadata": {},
   "outputs": [
    {
     "name": "stdout",
     "output_type": "stream",
     "text": [
      "$ @ $ @ $ @ $ @ $ @ $ @ $ @ $ @ $ @ $ @ $ @ $ @ $ @ $ @ $ @ "
     ]
    }
   ],
   "source": [
    "def basics1(lower, upper):\n",
    "    for r in range(lower,upper):\n",
    "        for c in range(r): #if u include the r value then range(r), if u use range(1,r) then counting will be upto r-1\n",
    "            print ('$',end=' @ ')\n",
    "    return \n",
    "\n",
    "basics1(1,6)"
   ]
  },
  {
   "cell_type": "code",
   "execution_count": 14,
   "metadata": {},
   "outputs": [
    {
     "name": "stdout",
     "output_type": "stream",
     "text": [
      "# \n",
      "# # \n",
      "# # # \n",
      "# # # # \n",
      "# # # # # \n"
     ]
    }
   ],
   "source": [
    "def basics2(lower, upper):\n",
    "    for r in range(lower,upper):\n",
    "        for c in range(r):\n",
    "            print ('#', end=' ')\n",
    "        print ()\n",
    "\n",
    "basics2(1,6)"
   ]
  },
  {
   "cell_type": "markdown",
   "metadata": {},
   "source": [
    "as this 'end = ' argument may not be available in any other language...so here's a different methods"
   ]
  },
  {
   "cell_type": "code",
   "execution_count": 13,
   "metadata": {},
   "outputs": [
    {
     "name": "stdout",
     "output_type": "stream",
     "text": [
      "# \n",
      "# # \n",
      "# # # \n",
      "# # # # \n",
      "# # # # # \n"
     ]
    }
   ],
   "source": [
    "def basics2_1(lower,upper):\n",
    "    for r in range(lower,upper):\n",
    "        print ('# ' * r)\n",
    "basics2_1(1,6)"
   ]
  },
  {
   "cell_type": "markdown",
   "metadata": {},
   "source": [
    "STRING CONCATENATION (this approach is more language independent...)"
   ]
  },
  {
   "cell_type": "code",
   "execution_count": 17,
   "metadata": {},
   "outputs": [
    {
     "name": "stdout",
     "output_type": "stream",
     "text": [
      "# \n",
      "# # \n",
      "# # # \n",
      "# # # # \n",
      "# # # # # \n"
     ]
    }
   ],
   "source": [
    "def string(lower,upper):\n",
    "    for r in range(lower,upper):\n",
    "        s = ''\n",
    "        for c in range(r):\n",
    "            s += '# '\n",
    "        print(s)\n",
    "\n",
    "string(1,6)"
   ]
  },
  {
   "cell_type": "markdown",
   "metadata": {},
   "source": [
    "#### INVERTED"
   ]
  },
  {
   "cell_type": "code",
   "execution_count": 65,
   "metadata": {},
   "outputs": [
    {
     "name": "stdout",
     "output_type": "stream",
     "text": [
      "*****\n",
      "****\n",
      "***\n",
      "**\n",
      "*\n"
     ]
    }
   ],
   "source": [
    "def inv(upper):\n",
    "    for i in range(upper,0,-1): \n",
    "        print('*'*i)\n",
    "\n",
    "inv(5)"
   ]
  },
  {
   "cell_type": "markdown",
   "metadata": {},
   "source": [
    "### <b>CENTERED ALIGNED TRIANGLE</b>"
   ]
  },
  {
   "cell_type": "markdown",
   "metadata": {},
   "source": [
    "<p> here the formulae used in 2,3 and 4 are <b> ONLY VALID</b> for cases where <b>stars += 2</b> and <b>spaces -= 1</b>. and also <b>NO SPACES IN BETWEEN TWO STARS</b>."
   ]
  },
  {
   "cell_type": "code",
   "execution_count": 59,
   "metadata": {},
   "outputs": [
    {
     "name": "stdout",
     "output_type": "stream",
     "text": [
      "    *\n",
      "   ***\n",
      "  *****\n",
      " *******\n",
      "*********\n"
     ]
    }
   ],
   "source": [
    "def triangle(upper):\n",
    "    max_stars = 2 * upper - 1                  ### these three formulae in 2 and 3 and 4 are derived from the pattern analysis\n",
    "    max_spaces = (max_stars - 1) // 2\n",
    "    spaces = max_spaces                 \n",
    "    stars = 1\n",
    "    for r in range(upper):\n",
    "        print ((' ' * spaces) + ('*' * stars))   ##you have to mention ' ' not '' as the later one is an empty string..not a single space.\n",
    "        spaces -= 1\n",
    "        stars += 2\n",
    "\n",
    "\n",
    "triangle(5)"
   ]
  },
  {
   "cell_type": "markdown",
   "metadata": {},
   "source": [
    "<p>   so in the first row we need</p> \n",
    "<ul>\n",
    "<li>4 spaces and 1 star</li> \n",
    "<li>on 2nd row, need 3 spaces and 3 star</li>\n",
    "<li>3rd row, 2 spaces 5 stars</li>\n",
    "<li>4th row, 1space 7 stars</li>\n",
    "<li>5th row 0 space 9 stars</li>\n",
    "<ul>\n",
    "<p>so space decreasing by 1 , stars increasing by 2\n"
   ]
  },
  {
   "cell_type": "markdown",
   "metadata": {},
   "source": [
    "now, again the upper method is using string repeatation which might be unavailable in other programming language so we need more geenric approach..."
   ]
  },
  {
   "cell_type": "code",
   "execution_count": 51,
   "metadata": {},
   "outputs": [
    {
     "name": "stdout",
     "output_type": "stream",
     "text": [
      "        *\n",
      "       ***\n",
      "      *****\n",
      "     *******\n",
      "    *********\n",
      "   ***********\n",
      "  *************\n",
      " ***************\n",
      "*****************\n"
     ]
    }
   ],
   "source": [
    "def triangle_generic(upper):\n",
    "    max_stars = 2*upper - 1\n",
    "    max_spaces = (max_stars - 1) // 2\n",
    "    stars = 1\n",
    "    spaces = max_spaces\n",
    "    for r in range(upper):\n",
    "        s = ''\n",
    "        for c in range(spaces):\n",
    "            s += \" \"\n",
    "        for c in range(stars):\n",
    "            s += \"*\"\n",
    "        \n",
    "        print (s)\n",
    "        spaces -= 1\n",
    "        stars += 2\n",
    "\n",
    "triangle_generic(9)"
   ]
  },
  {
   "cell_type": "markdown",
   "metadata": {},
   "source": [
    "#### INVERTED"
   ]
  },
  {
   "cell_type": "code",
   "execution_count": 64,
   "metadata": {},
   "outputs": [
    {
     "name": "stdout",
     "output_type": "stream",
     "text": [
      "*****************\n",
      " ***************\n",
      "  *************\n",
      "   ***********\n",
      "    *********\n",
      "     *******\n",
      "      *****\n",
      "       ***\n",
      "        *\n"
     ]
    }
   ],
   "source": [
    "def triangle_inv(upper):\n",
    "    max_stars = 2 * upper - 1                  ### these three formulae in 2 and 3 and 4 are derived from the pattern analysis\n",
    "    max_spaces = (max_stars - 1) // 2\n",
    "    spaces = 0                 \n",
    "    stars = max_stars\n",
    "    for r in range(upper):\n",
    "        print ((' ' * spaces) + ('*' * stars))   ##you have to mention ' ' not '' as the later one is an empty string..not a single space.\n",
    "        spaces += 1\n",
    "        stars -= 2\n",
    "\n",
    "\n",
    "triangle_inv(9)"
   ]
  },
  {
   "cell_type": "markdown",
   "metadata": {},
   "source": [
    "### TRIANGLE ( STARS WITH SPACES IN BETWEEN ) "
   ]
  },
  {
   "cell_type": "markdown",
   "metadata": {},
   "source": [
    "<p> note that only the max_space formula gets changed for this case. and <b>space -= 2</b> will  be the case for this</p>"
   ]
  },
  {
   "cell_type": "code",
   "execution_count": 58,
   "metadata": {},
   "outputs": [
    {
     "name": "stdout",
     "output_type": "stream",
     "text": [
      "                * \n",
      "              * * * \n",
      "            * * * * * \n",
      "          * * * * * * * \n",
      "        * * * * * * * * * \n",
      "      * * * * * * * * * * * \n",
      "    * * * * * * * * * * * * * \n",
      "  * * * * * * * * * * * * * * * \n",
      "* * * * * * * * * * * * * * * * * \n"
     ]
    }
   ],
   "source": [
    "def triangle_spaced(upper):\n",
    "    max_stars = 2 * upper - 1                  ### these three formulae in 2 and 3 and 4 are derived from the pattern analysis\n",
    "    max_spaces = (max_stars - 1) \n",
    "    spaces = max_spaces                 \n",
    "    stars = 1\n",
    "    for r in range(upper):\n",
    "        print ((' ' * spaces) + ('* ' * stars))   ##you have to mention ' ' not '' as the later one is an empty string..not a single space.\n",
    "        spaces -= 2\n",
    "        stars += 2\n",
    "\n",
    "\n",
    "triangle_spaced(9)"
   ]
  },
  {
   "cell_type": "markdown",
   "metadata": {},
   "source": [
    "<p> spaced triangle of another format...</p>"
   ]
  },
  {
   "cell_type": "code",
   "execution_count": 73,
   "metadata": {},
   "outputs": [
    {
     "name": "stdout",
     "output_type": "stream",
     "text": [
      "        * \n",
      "       * * \n",
      "      * * * \n",
      "     * * * * \n",
      "    * * * * * \n",
      "   * * * * * * \n",
      "  * * * * * * * \n",
      " * * * * * * * * \n",
      "* * * * * * * * * \n"
     ]
    }
   ],
   "source": [
    "def triangle_spaced2(N):\n",
    "    stars = 1\n",
    "    max_spaces = N - 1\n",
    "    for r in range(N):\n",
    "        print (' ' * max_spaces + '* ' * stars)\n",
    "        max_spaces -= 1 \n",
    "        stars += 1\n",
    "\n",
    "triangle_spaced2(9)"
   ]
  },
  {
   "cell_type": "markdown",
   "metadata": {},
   "source": [
    "#### INVERTED"
   ]
  },
  {
   "cell_type": "markdown",
   "metadata": {},
   "source": [
    "<p> every thing will be same just <b>spaces will start from 0 and stars will start from max_stars</b> and of course spaces will now inc by 2 and stars will dec by 2</p>"
   ]
  },
  {
   "cell_type": "code",
   "execution_count": 61,
   "metadata": {},
   "outputs": [
    {
     "name": "stdout",
     "output_type": "stream",
     "text": [
      "* * * * * * * * * * * * * * * * * \n",
      "  * * * * * * * * * * * * * * * \n",
      "    * * * * * * * * * * * * * \n",
      "      * * * * * * * * * * * \n",
      "        * * * * * * * * * \n",
      "          * * * * * * * \n",
      "            * * * * * \n",
      "              * * * \n",
      "                * \n"
     ]
    }
   ],
   "source": [
    "def triangle_inverted(upper):\n",
    "    max_stars = 2 * upper - 1                  ### these three formulae in 2 and 3 and 4 are derived from the pattern analysis\n",
    "    max_spaces = (max_stars - 1) \n",
    "    spaces = 0               \n",
    "    stars = max_stars\n",
    "    for r in range(upper):\n",
    "        print ((' ' * spaces) + ('* ' * stars))   ##you have to mention ' ' not '' as the later one is an empty string..not a single space.\n",
    "        spaces += 2\n",
    "        stars -= 2\n",
    "\n",
    "\n",
    "triangle_inverted(9)"
   ]
  },
  {
   "cell_type": "code",
   "execution_count": 78,
   "metadata": {},
   "outputs": [
    {
     "name": "stdout",
     "output_type": "stream",
     "text": [
      "* * * * * * * * * \n",
      " * * * * * * * * \n",
      "  * * * * * * * \n",
      "   * * * * * * \n",
      "    * * * * * \n",
      "     * * * * \n",
      "      * * * \n",
      "       * * \n",
      "        * \n"
     ]
    }
   ],
   "source": [
    "def triangle_inverted2(N):\n",
    "    stars = N\n",
    "    spaces = 0\n",
    "    for r in range(N):\n",
    "        print (' ' * spaces + '* ' * stars)\n",
    "        spaces += 1 \n",
    "        stars -= 1\n",
    "\n",
    "triangle_inverted2(9)"
   ]
  },
  {
   "cell_type": "markdown",
   "metadata": {},
   "source": [
    "### <b> HOLLOW HALF-PYRAMID </b>"
   ]
  },
  {
   "cell_type": "code",
   "execution_count": 71,
   "metadata": {},
   "outputs": [
    {
     "name": "stdout",
     "output_type": "stream",
     "text": [
      "* * * * * * * * * * \n",
      "*               *\n",
      "*             *\n",
      "*           *\n",
      "*         *\n",
      "*       *\n",
      "*     *\n",
      "*   *\n",
      "* * \n",
      "* \n"
     ]
    }
   ],
   "source": [
    "def hollow_half_pyramid(N):\n",
    "    stars = N\n",
    "    spaces = N - 3\n",
    "    for i in range(N):\n",
    "        \n",
    "        if i in range(1,N-2):\n",
    "            print ('* ' + ('  ' * spaces) + '*')\n",
    "            spaces -= 1\n",
    "\n",
    "        else : print ('* ' * stars)\n",
    "\n",
    "        stars -= 1\n",
    "\n",
    "hollow_half_pyramid(10)"
   ]
  },
  {
   "cell_type": "markdown",
   "metadata": {},
   "source": [
    "### <b>INTEGER HALF PYRAMID</b>"
   ]
  },
  {
   "cell_type": "code",
   "execution_count": 84,
   "metadata": {},
   "outputs": [
    {
     "name": "stdout",
     "output_type": "stream",
     "text": [
      "1 2 3 4\n",
      "1 2 3\n",
      "1 2\n",
      "1\n"
     ]
    }
   ],
   "source": [
    "def int_half_pyramid(N):\n",
    "    for i in range(N,0,-1):\n",
    "        for j in range(1,i+1):\n",
    "            if (j!=i): print (j, end=' ')\n",
    "            else : print (j,end = '')\n",
    "        print()\n",
    "\n",
    "int_half_pyramid(4)"
   ]
  },
  {
   "cell_type": "markdown",
   "metadata": {},
   "source": [
    "or,"
   ]
  },
  {
   "cell_type": "code",
   "execution_count": 83,
   "metadata": {},
   "outputs": [
    {
     "name": "stdout",
     "output_type": "stream",
     "text": [
      "1 2 3 4\n",
      "1 2 3\n",
      "1 2\n",
      "1\n"
     ]
    }
   ],
   "source": [
    "def int_half_pyramid(n):\n",
    "    for i in range(n):\n",
    "        for j in range(n-i):\n",
    "            print(j+1,end=\"\")\n",
    "            if(j!=n-i-1):\n",
    "                print(\" \",end=\"\")\n",
    "        print()\n",
    "int_half_pyramid(4)"
   ]
  }
 ],
 "metadata": {
  "interpreter": {
   "hash": "ac67a110c22b5a2dbfbee94e330edc65ab8c73ef4fe4729cecc84c9bf1ab600c"
  },
  "kernelspec": {
   "display_name": "Python 3.9.7 ('base')",
   "language": "python",
   "name": "python3"
  },
  "language_info": {
   "codemirror_mode": {
    "name": "ipython",
    "version": 3
   },
   "file_extension": ".py",
   "mimetype": "text/x-python",
   "name": "python",
   "nbconvert_exporter": "python",
   "pygments_lexer": "ipython3",
   "version": "3.9.7"
  },
  "orig_nbformat": 4
 },
 "nbformat": 4,
 "nbformat_minor": 2
}
