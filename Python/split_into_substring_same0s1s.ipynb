{
 "cells": [
  {
   "cell_type": "markdown",
   "metadata": {},
   "source": [
    "<p>Given a string A, A is made up of 0's and 1's. Break A into substrings such that , all broken substrings have equal number of 1's and 0's.\n",
    "\n",
    "Find and return maximum number of substrings in which A can be broken.</p>\n",
    "<p>For Example:</p>\n",
    "<p>Input 1:</p>\n",
    "<p>    A = \"011100\"</p>\n",
    "<p>Output 1:</p>\n",
    "<p>    2</p>\n",
    "<p>Explanation 1:</p>\n",
    "<p>    \"01\" + \"1100\"</p>"
   ]
  },
  {
   "cell_type": "code",
   "execution_count": 4,
   "metadata": {},
   "outputs": [],
   "source": [
    "#class Solution:\n",
    "def solve(A):   \n",
    "    count_0s = 0\n",
    "    count_1s = 0\n",
    "    count_substring = 0\n",
    "    for ele in A :\n",
    "        if ele == '0': count_0s += 1\n",
    "        else : count_1s += 1 \n",
    "        \n",
    "        if count_0s == count_1s : count_substring += 1\n",
    "\n",
    "    if count_0s != count_1s : return 1\n",
    "    return count_substring    "
   ]
  },
  {
   "cell_type": "code",
   "execution_count": 6,
   "metadata": {},
   "outputs": [
    {
     "name": "stdout",
     "output_type": "stream",
     "text": [
      "2\n",
      "1\n"
     ]
    }
   ],
   "source": [
    "A = '011100'\n",
    "B = '0111001'\n",
    "print(solve(A))\n",
    "print(solve(B))"
   ]
  }
 ],
 "metadata": {
  "interpreter": {
   "hash": "ac67a110c22b5a2dbfbee94e330edc65ab8c73ef4fe4729cecc84c9bf1ab600c"
  },
  "kernelspec": {
   "display_name": "Python 3.9.7 ('base')",
   "language": "python",
   "name": "python3"
  },
  "language_info": {
   "codemirror_mode": {
    "name": "ipython",
    "version": 3
   },
   "file_extension": ".py",
   "mimetype": "text/x-python",
   "name": "python",
   "nbconvert_exporter": "python",
   "pygments_lexer": "ipython3",
   "version": "3.9.7"
  },
  "orig_nbformat": 4
 },
 "nbformat": 4,
 "nbformat_minor": 2
}
