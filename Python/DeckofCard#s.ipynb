{
 "cells": [
  {
   "cell_type": "markdown",
   "metadata": {},
   "source": [
    "sub the 0th element and append to result = []. Then put the first element to the end of the array at hand. <br>\n",
    "12345 <br>\n",
    "op = [1], array at hand becomes = [3452]<br>\n",
    "next iter. --> op = [13], array at hand =[524]<br>\n",
    "next iter. --> op = [135], array at hand =[42]<br>\n",
    "next iter. --> op=[1354], array becomes = [2]<br>\n",
    "next iter. --> op=[13542]"
   ]
  },
  {
   "cell_type": "code",
   "execution_count": 12,
   "metadata": {},
   "outputs": [],
   "source": [
    "def solve(arr):\n",
    "    if len(arr) == 1:\n",
    "        return arr\n",
    "    left = arr[::2]\n",
    "    right = arr[1::2]\n",
    "\n",
    "    if len(left) != len(right):\n",
    "        temp = right.pop(0)\n",
    "        right.append(temp)\n",
    "\n",
    "    return left+solve(right)"
   ]
  },
  {
   "cell_type": "code",
   "execution_count": 11,
   "metadata": {},
   "outputs": [
    {
     "name": "stdout",
     "output_type": "stream",
     "text": [
      "[1, 3, 5, 4, 2]\n"
     ]
    }
   ],
   "source": [
    "def main():\n",
    "    arr = [1,2,3,4,5]\n",
    "    print(solve(arr))\n",
    "main()"
   ]
  },
  {
   "cell_type": "markdown",
   "metadata": {},
   "source": [
    "Or, lets try an iterative approach"
   ]
  },
  {
   "cell_type": "code",
   "execution_count": 6,
   "metadata": {},
   "outputs": [],
   "source": [
    "def iterative(ar):\n",
    "    for i in range(len(ar)-1):\n",
    "        print(ar[i], end = \" \")\n",
    "        a = ar[i+1]\n",
    "        ar.remove(ar[i+1])\n",
    "        ar.append(a)\n",
    "    print(ar[len(ar)-1])"
   ]
  },
  {
   "cell_type": "code",
   "execution_count": 10,
   "metadata": {},
   "outputs": [
    {
     "name": "stdout",
     "output_type": "stream",
     "text": [
      "1 3 5 4 2\n"
     ]
    }
   ],
   "source": [
    "def main():\n",
    "    arr = [1,2,3,4,5]\n",
    "    iterative(arr)\n",
    "main()"
   ]
  },
  {
   "cell_type": "markdown",
   "metadata": {},
   "source": [
    "But this is O(n); the recursive approach  is of O(ln(n)). \n",
    "So, recursive approch is far better."
   ]
  }
 ],
 "metadata": {
  "interpreter": {
   "hash": "ac67a110c22b5a2dbfbee94e330edc65ab8c73ef4fe4729cecc84c9bf1ab600c"
  },
  "kernelspec": {
   "display_name": "Python 3.9.7 ('base')",
   "language": "python",
   "name": "python3"
  },
  "language_info": {
   "codemirror_mode": {
    "name": "ipython",
    "version": 3
   },
   "file_extension": ".py",
   "mimetype": "text/x-python",
   "name": "python",
   "nbconvert_exporter": "python",
   "pygments_lexer": "ipython3",
   "version": "3.9.7"
  },
  "orig_nbformat": 4
 },
 "nbformat": 4,
 "nbformat_minor": 2
}
