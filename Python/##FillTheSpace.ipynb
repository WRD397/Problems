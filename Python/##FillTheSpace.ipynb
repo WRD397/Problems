{
 "cells": [
  {
   "cell_type": "markdown",
   "metadata": {},
   "source": [
    "Problem Description:\n",
    "\n",
    "Complete the function, which accepts a string consisting of some numbers and blanks (underscores), separated by commas, and fills these blanks as per the given conditions:\n",
    "\n",
    "<li>left of a number should be filled by the number distributed equally into the number of blanks to the left, along with the number position itself</li>\n",
    "<li>middle blanks of two numbers should be filled by their sum equally distributed, along with their two positions</li>\n",
    "<li>right blanks of a number should be again distributed equally by that number, along with the position of the number itself.</li>\n",
    "Refer to sample input, output, and explanation for better clarity."
   ]
  },
  {
   "cell_type": "markdown",
   "metadata": {},
   "source": [
    "<p>Sample Input:' , ,30, , , ,50, , '</p>\n",
    "<p>Sample Output: [10, 10, 12, 12, 12, 12, 4, 4, 4]</p>\n",
    "<p>Sample Explanation:\n",
    "30 is distributed to the left two blanks (10,10,10,_ ,_ ,_ ,50,_ ,_ )\n",
    "Then the sum of 10 and 50 is distributed among the blanks between 10 and 50 (10,10,12,12,12,12,12,_ ,_ )\n",
    "Finally, 12 is distributed to the rest blanks in the right (10,10,12,12,12,12,4,4,4)</p>"
   ]
  },
  {
   "cell_type": "code",
   "execution_count": 32,
   "metadata": {},
   "outputs": [],
   "source": [
    "def foo(inpl):   \n",
    "    count = 0\n",
    "    sum = 0\n",
    "    k = 0\n",
    "    for i in range(0,len(inpl)):\n",
    "        count += 1\n",
    "        if (inpl[i] != ' ') or (i == len(inpl)-1):\n",
    "            if (i == len(inpl)-1) and inpl[i] == ' ' :\n",
    "                sum = int(inpl[k])\n",
    "                for j in range(k,i+1):\n",
    "                    inpl[j] = sum // count\n",
    "            else:\n",
    "                for j in range(k,i+1):\n",
    "                    inpl[j] = (int(inpl[i])+sum) // count\n",
    "                count = 1\n",
    "                k = i\n",
    "                sum = int(inpl[i])\n",
    "    print(inpl)"
   ]
  },
  {
   "cell_type": "code",
   "execution_count": 33,
   "metadata": {},
   "outputs": [
    {
     "name": "stdout",
     "output_type": "stream",
     "text": [
      "original:  [' ', ' ', '30', ' ', ' ', ' ', '50', ' ', ' ']\n",
      "[10, 10, 12, 12, 12, 12, 4, 4, 4]\n"
     ]
    }
   ],
   "source": [
    "input = ' , ,30, , , ,50, , '\n",
    "inpl = input.split(',')\n",
    "print('original: ',inpl)\n",
    "foo(inpl)"
   ]
  },
  {
   "cell_type": "code",
   "execution_count": 34,
   "metadata": {},
   "outputs": [
    {
     "name": "stdout",
     "output_type": "stream",
     "text": [
      "original:  ['40', ' ', ' ', ' ', '60']\n",
      "[20, 20, 20, 20, 20]\n"
     ]
    }
   ],
   "source": [
    "z = '40, , , ,60'\n",
    "zlist = z.split(',')\n",
    "print('original: ',zlist)\n",
    "foo(zlist)"
   ]
  },
  {
   "cell_type": "markdown",
   "metadata": {},
   "source": [
    "## Better Approach"
   ]
  },
  {
   "cell_type": "code",
   "execution_count": 8,
   "metadata": {},
   "outputs": [
    {
     "data": {
      "text/plain": [
       "'  #### NOT SURE #### '"
      ]
     },
     "execution_count": 8,
     "metadata": {},
     "output_type": "execute_result"
    }
   ],
   "source": [
    "\"\"\"\n",
    "def fill(input_data):\n",
    "    filled_data = None\n",
    "    \n",
    "    filled_data = input_data.split(',')\n",
    "    result = []\n",
    "    pos = 0\n",
    "    while('_' in filled_data):\n",
    "        count = 0\n",
    "        acc = 0\n",
    "        for i in range(pos,len(filled_data)):\n",
    "            count +=1\n",
    "            if filled_data[i] != '_':\n",
    "                acc+=int(filled_data[i])\n",
    "                if(count >1):\n",
    "                    break\n",
    "                \n",
    "        acc = acc//count\n",
    "        \n",
    "        filled_data[pos:pos+count]= [acc]*count\n",
    "        pos = pos + count-1\n",
    "    return filled_data\n",
    "\n",
    "\"\"\"\n",
    "\"\"\"  #### NOT SURE #### \"\"\"    "
   ]
  }
 ],
 "metadata": {
  "interpreter": {
   "hash": "ac67a110c22b5a2dbfbee94e330edc65ab8c73ef4fe4729cecc84c9bf1ab600c"
  },
  "kernelspec": {
   "display_name": "Python 3.9.7 ('base')",
   "language": "python",
   "name": "python3"
  },
  "language_info": {
   "codemirror_mode": {
    "name": "ipython",
    "version": 3
   },
   "file_extension": ".py",
   "mimetype": "text/x-python",
   "name": "python",
   "nbconvert_exporter": "python",
   "pygments_lexer": "ipython3",
   "version": "3.9.7"
  },
  "orig_nbformat": 4
 },
 "nbformat": 4,
 "nbformat_minor": 2
}
