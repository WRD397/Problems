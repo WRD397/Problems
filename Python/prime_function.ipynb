{
 "cells": [
  {
   "cell_type": "code",
   "execution_count": 56,
   "metadata": {},
   "outputs": [],
   "source": [
    "def is_prime(num):\n",
    "    if num <= 1 : return False\n",
    "    for i in range(2,int(num**0.5)+1):\n",
    "        if num % i == 0 :\n",
    "            return False\n",
    "    return True"
   ]
  },
  {
   "cell_type": "code",
   "execution_count": 69,
   "metadata": {},
   "outputs": [],
   "source": [
    "def print_primes(lower,upper):\n",
    "    parameter = True\n",
    "    for i in range(lower, upper+1):\n",
    "        if is_prime(i): \n",
    "            parameter = False\n",
    "            print(i,end=\",\")\n",
    "       \n",
    "    if parameter: print( 'NO PRIME NUMBERS')\n",
    "            "
   ]
  },
  {
   "cell_type": "code",
   "execution_count": 75,
   "metadata": {},
   "outputs": [
    {
     "name": "stdout",
     "output_type": "stream",
     "text": [
      "2,3,5,7,11,13,17,19,\n",
      "NO PRIME NUMBERS\n"
     ]
    }
   ],
   "source": [
    "print_primes(0,20)\n",
    "print()\n",
    "print_primes(0,1)"
   ]
  },
  {
   "cell_type": "markdown",
   "metadata": {},
   "source": [
    "#### PRIME OR NOT"
   ]
  },
  {
   "cell_type": "code",
   "execution_count": 6,
   "metadata": {},
   "outputs": [],
   "source": [
    "def prime_or_not(N):\n",
    "    for i in range(2, (int(N**0.5) + 1)):\n",
    "        if N % i == 0 :\n",
    "            return ('NO')\n",
    "    print ('YES')"
   ]
  },
  {
   "cell_type": "code",
   "execution_count": 12,
   "metadata": {},
   "outputs": [
    {
     "name": "stdout",
     "output_type": "stream",
     "text": [
      "YES\n"
     ]
    }
   ],
   "source": [
    "prime_or_not(197)"
   ]
  },
  {
   "cell_type": "markdown",
   "metadata": {},
   "source": [
    "#### RETURNING PRIME NUMBERS IN A SAME FUNC"
   ]
  },
  {
   "cell_type": "code",
   "execution_count": 15,
   "metadata": {},
   "outputs": [],
   "source": [
    "def prime_numbers(N):\n",
    "    for i in range(2,N+1):\n",
    "        parameter = True\n",
    "        for j in range(2, int(i**0.5)+1):\n",
    "            if i % j == 0 : \n",
    "                parameter = False\n",
    "        if parameter : print(i, end=' ')"
   ]
  },
  {
   "cell_type": "code",
   "execution_count": 16,
   "metadata": {},
   "outputs": [
    {
     "name": "stdout",
     "output_type": "stream",
     "text": [
      "2 3 5 7 11 13 17 19 23 29 31 37 41 43 47 53 59 61 67 71 73 79 83 89 97 "
     ]
    }
   ],
   "source": [
    "prime_numbers(97)"
   ]
  }
 ],
 "metadata": {
  "interpreter": {
   "hash": "ac67a110c22b5a2dbfbee94e330edc65ab8c73ef4fe4729cecc84c9bf1ab600c"
  },
  "kernelspec": {
   "display_name": "Python 3.9.7 ('base')",
   "language": "python",
   "name": "python3"
  },
  "language_info": {
   "codemirror_mode": {
    "name": "ipython",
    "version": 3
   },
   "file_extension": ".py",
   "mimetype": "text/x-python",
   "name": "python",
   "nbconvert_exporter": "python",
   "pygments_lexer": "ipython3",
   "version": "3.9.7"
  },
  "orig_nbformat": 4
 },
 "nbformat": 4,
 "nbformat_minor": 2
}
