{
 "cells": [
  {
   "cell_type": "markdown",
   "metadata": {},
   "source": [
    "<p>Given a string str. The task is to count the minimum number of elements to be removed so that pairwise consecutive elements are same</p>\n",
    "<p>Approach:</p>\n",
    "<p>Check if the current two consecutive elements are same or not. If yes then increment the index by 2 and keep checking till all the elements get traversed. Else increment the index by 1 and count by 1. </p>"
   ]
  },
  {
   "cell_type": "code",
   "execution_count": 18,
   "metadata": {},
   "outputs": [
    {
     "name": "stdout",
     "output_type": "stream",
     "text": [
      "3\n"
     ]
    }
   ],
   "source": [
    "# Python 3 implementation of the above approach\n",
    "\n",
    "# Function to count the minimum number of\n",
    "# elements to remove from a number so that\n",
    "# pairwise two consecutive digits are same.\n",
    "def countConsecutive(s):\n",
    "\n",
    "\t# initialize counting variable\n",
    "\tcount = -1\n",
    "\n",
    "\tfor i in range(len(s)-1):\n",
    "\n",
    "\t\t# check if two consecutive\n",
    "\t\t# digits are same\n",
    "\t\tif(i <= len(s)):\n",
    "\t\t\tif (s[i] is s[i + 1]):\n",
    "\t\t\t\ti += 1\n",
    "\t\t\telse:\n",
    "\t\t\t\tcount += 1\n",
    "\treturn count\n",
    "\n",
    "# Driver code\n",
    "if __name__ == '__main__':\n",
    "\tstr = \"4452225566\"\n",
    "\tprint(countConsecutive(str))"
   ]
  },
  {
   "cell_type": "code",
   "execution_count": 12,
   "metadata": {},
   "outputs": [
    {
     "name": "stdout",
     "output_type": "stream",
     "text": [
      "0\n",
      "2\n",
      "4\n",
      "6\n",
      "8\n"
     ]
    }
   ],
   "source": [
    "for i in range(0,10,2):\n",
    "    print(i)"
   ]
  }
 ],
 "metadata": {
  "interpreter": {
   "hash": "ac67a110c22b5a2dbfbee94e330edc65ab8c73ef4fe4729cecc84c9bf1ab600c"
  },
  "kernelspec": {
   "display_name": "Python 3.9.7 ('base')",
   "language": "python",
   "name": "python3"
  },
  "language_info": {
   "codemirror_mode": {
    "name": "ipython",
    "version": 3
   },
   "file_extension": ".py",
   "mimetype": "text/x-python",
   "name": "python",
   "nbconvert_exporter": "python",
   "pygments_lexer": "ipython3",
   "version": "3.9.7"
  },
  "orig_nbformat": 4
 },
 "nbformat": 4,
 "nbformat_minor": 2
}
