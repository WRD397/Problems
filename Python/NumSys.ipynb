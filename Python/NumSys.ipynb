{
 "cells": [
  {
   "cell_type": "markdown",
   "metadata": {},
   "source": [
    "#### LCM"
   ]
  },
  {
   "cell_type": "code",
   "execution_count": 11,
   "metadata": {},
   "outputs": [
    {
     "name": "stdout",
     "output_type": "stream",
     "text": [
      "LCM of 13 and 85 is 1105\n"
     ]
    }
   ],
   "source": [
    "a = int( input('Enter first Number \\n') )      ###input function will make YOU enter the digit. After running the code it will ask u to enter th digit on the command palate.\n",
    "b = int( input('Enter second Number \\n') )\n",
    "maxNum = max(a,b) \n",
    "while(True):\n",
    "    if (maxNum % a == 0) & (maxNum % b == 0) :\n",
    "        print ( f'LCM of {a} and {b} is {maxNum}')   #######this is called 'f String'.\n",
    "        break\n",
    "    else :\n",
    "        maxNum+=1"
   ]
  },
  {
   "cell_type": "markdown",
   "metadata": {},
   "source": [
    "#### HCF"
   ]
  },
  {
   "cell_type": "code",
   "execution_count": 17,
   "metadata": {},
   "outputs": [
    {
     "name": "stdout",
     "output_type": "stream",
     "text": [
      "numbers are : 54,26\n",
      "List of Common Factors: [1, 2]\n",
      "HCF = 2\n"
     ]
    }
   ],
   "source": [
    "num1 = int( input('Enter the first number : ') )\n",
    "num2 = int( input('Enter the second number : ') )\n",
    "print (f'numbers are : {num1},{num2}')\n",
    "minNum = min(num1,num2)\n",
    "CommonFactors = []\n",
    "for i in range (1, minNum+1):\n",
    "    if (num1 % i == 0) & (num2 % i == 0) :\n",
    "        CommonFactors.append(i)\n",
    "    else:\n",
    "        pass\n",
    "print (f'List of Common Factors: {CommonFactors}')\n",
    "HCF = max(CommonFactors)\n",
    "print (f'HCF = {HCF}')"
   ]
  },
  {
   "cell_type": "markdown",
   "metadata": {},
   "source": [
    "#### HCF through function"
   ]
  },
  {
   "cell_type": "code",
   "execution_count": 15,
   "metadata": {},
   "outputs": [],
   "source": [
    "def hcf(a,b):\n",
    "    while (a!=0) & (b!=0):\n",
    "        if a > b:\n",
    "            a = a%b\n",
    "            \n",
    "        else: \n",
    "            b = b % a\n",
    "    return a+b "
   ]
  },
  {
   "cell_type": "code",
   "execution_count": 17,
   "metadata": {},
   "outputs": [
    {
     "name": "stdout",
     "output_type": "stream",
     "text": [
      "3\n",
      "15\n",
      "1\n"
     ]
    }
   ],
   "source": [
    "print(hcf(12,15))\n",
    "print(hcf(60, 15))\n",
    "print(hcf(100,1))"
   ]
  },
  {
   "cell_type": "markdown",
   "metadata": {},
   "source": [
    "better ( Eucledian Algo)"
   ]
  },
  {
   "cell_type": "code",
   "execution_count": 1,
   "metadata": {},
   "outputs": [],
   "source": [
    "def gcd(A, B):\n",
    "        while B:\n",
    "            A, B = B, A % B\n",
    "        return A"
   ]
  },
  {
   "cell_type": "code",
   "execution_count": 2,
   "metadata": {},
   "outputs": [
    {
     "data": {
      "text/plain": [
       "3"
      ]
     },
     "execution_count": 2,
     "metadata": {},
     "output_type": "execute_result"
    }
   ],
   "source": [
    "gcd(3,9)"
   ]
  },
  {
   "cell_type": "markdown",
   "metadata": {},
   "source": [
    "#### LCM through function"
   ]
  },
  {
   "cell_type": "code",
   "execution_count": 18,
   "metadata": {},
   "outputs": [],
   "source": [
    "def lcm(a,b):\n",
    "    return a*b / hcf(a,b)"
   ]
  },
  {
   "cell_type": "code",
   "execution_count": 19,
   "metadata": {},
   "outputs": [
    {
     "name": "stdout",
     "output_type": "stream",
     "text": [
      "60.0\n",
      "60.0\n",
      "100.0\n"
     ]
    }
   ],
   "source": [
    "print(lcm(12,15))\n",
    "print(lcm(60, 15))\n",
    "print(lcm(100,1))"
   ]
  },
  {
   "cell_type": "markdown",
   "metadata": {},
   "source": [
    "for more than 2 numebers...determine the hcf of any two numbers an then determine hcf with the remaining numbers."
   ]
  },
  {
   "cell_type": "markdown",
   "metadata": {},
   "source": [
    "### BINARY"
   ]
  },
  {
   "cell_type": "markdown",
   "metadata": {},
   "source": [
    "##### BITWISE AND"
   ]
  },
  {
   "cell_type": "code",
   "execution_count": 19,
   "metadata": {},
   "outputs": [
    {
     "name": "stdout",
     "output_type": "stream",
     "text": [
      "10\n",
      "0b1010\n"
     ]
    }
   ],
   "source": [
    "\"\"\"\n",
    "means bit by bit there wil be AND operation.\n",
    "\"\"\"\n",
    "A = 0b101110\n",
    "B = 0b001011\n",
    "print (A & B)\n",
    "print (bin(A&B))  ##bin operation will give the binary correspondig of the given digit in the argument."
   ]
  },
  {
   "cell_type": "markdown",
   "metadata": {},
   "source": [
    "...So, baiscally A & B will give decimal number after operating bitwise.                         \n",
    "...'0b' denotes the base of the digit...ie. 1010 is binary  digit thats why its showing 0b1010."
   ]
  },
  {
   "cell_type": "markdown",
   "metadata": {},
   "source": [
    "##### BITWISE OR"
   ]
  },
  {
   "cell_type": "code",
   "execution_count": 20,
   "metadata": {},
   "outputs": [
    {
     "name": "stdout",
     "output_type": "stream",
     "text": [
      "47\n",
      "0b101111\n"
     ]
    }
   ],
   "source": [
    "A = 0b101110\n",
    "B = 0b001011\n",
    "print(A | B)\n",
    "print(bin(A|B))"
   ]
  },
  {
   "cell_type": "markdown",
   "metadata": {},
   "source": [
    "##### BITWISE NOT"
   ]
  },
  {
   "cell_type": "code",
   "execution_count": 26,
   "metadata": {},
   "outputs": [
    {
     "name": "stdout",
     "output_type": "stream",
     "text": [
      "-7\n",
      "-0b111\n"
     ]
    }
   ],
   "source": [
    "A = 0b0110\n",
    "print(~A)\n",
    "print(bin(~A))"
   ]
  },
  {
   "cell_type": "markdown",
   "metadata": {},
   "source": [
    "##### BITWISE XOR"
   ]
  },
  {
   "cell_type": "code",
   "execution_count": 27,
   "metadata": {},
   "outputs": [
    {
     "name": "stdout",
     "output_type": "stream",
     "text": [
      "43\n",
      "0b101011\n"
     ]
    }
   ],
   "source": [
    "\"\"\"\n",
    "A^B is 1 only when both the digits are different\n",
    "\"\"\"\n",
    "A = 0b101110\n",
    "B = 0b0101\n",
    "print(A^B)\n",
    "print (bin(A^B))"
   ]
  },
  {
   "cell_type": "markdown",
   "metadata": {},
   "source": [
    "##### LEFT SHIFT"
   ]
  },
  {
   "cell_type": "code",
   "execution_count": 33,
   "metadata": {},
   "outputs": [
    {
     "name": "stdout",
     "output_type": "stream",
     "text": [
      "0b11000\n",
      "0b11010100\n"
     ]
    }
   ],
   "source": [
    "\"\"\"\n",
    "A << x\n",
    "if x = 2 whole sequence of digits will shift to the left by 2 positions. And the 2 blank right most positions will be filled by 0's\n",
    "\"\"\"\n",
    "A = 0b0110\n",
    "print(bin( A << 2 ))\n",
    "B = 0b110101\n",
    "print(bin(B<<2))"
   ]
  },
  {
   "cell_type": "markdown",
   "metadata": {},
   "source": [
    "##### RIGHT SHIFT"
   ]
  },
  {
   "cell_type": "code",
   "execution_count": 34,
   "metadata": {},
   "outputs": [
    {
     "data": {
      "text/plain": [
       "'0b1'"
      ]
     },
     "execution_count": 34,
     "metadata": {},
     "output_type": "execute_result"
    }
   ],
   "source": [
    "\"\"\"\n",
    "shifts the whole sequence of digits to the right by 2 positions. the right most shifted positions will be lost\n",
    "\"\"\"\n",
    "\n",
    "A = 0b0110\n",
    "bin( A >> 2 )"
   ]
  },
  {
   "cell_type": "markdown",
   "metadata": {},
   "source": [
    "for 3.777 \n",
    "<p>floor = 3</p>\n",
    "<p>ceilling = 4</p>"
   ]
  },
  {
   "cell_type": "markdown",
   "metadata": {},
   "source": [
    "<p>integer division // always gives the floor</p>"
   ]
  },
  {
   "cell_type": "code",
   "execution_count": 1,
   "metadata": {},
   "outputs": [
    {
     "data": {
      "text/plain": [
       "-2"
      ]
     },
     "execution_count": 1,
     "metadata": {},
     "output_type": "execute_result"
    }
   ],
   "source": [
    "-3 // 2 #it will no give -1 but will give -2 "
   ]
  },
  {
   "cell_type": "code",
   "execution_count": 2,
   "metadata": {},
   "outputs": [
    {
     "data": {
      "text/plain": [
       "7.5"
      ]
     },
     "execution_count": 2,
     "metadata": {},
     "output_type": "execute_result"
    }
   ],
   "source": [
    "2 * 3 / 4 * 5   #div happens prior to mult"
   ]
  },
  {
   "cell_type": "code",
   "execution_count": 11,
   "metadata": {},
   "outputs": [],
   "source": [
    "def main(T,A,B):\n",
    "    for i in range(T):\n",
    "        A = input\n",
    "        B = input\n",
    "        C = input\n",
    "        return(A+B)\n",
    "\n",
    "#if __name__ == '__main__':\n",
    " #   main()"
   ]
  },
  {
   "cell_type": "code",
   "execution_count": null,
   "metadata": {},
   "outputs": [],
   "source": [
    "T = 3\n",
    "A"
   ]
  },
  {
   "cell_type": "code",
   "execution_count": null,
   "metadata": {},
   "outputs": [],
   "source": [
    "max = A\n",
    "if b>max:\n",
    "    max = B\n",
    "if c> max:\n",
    "    max = c\n",
    "print(max)"
   ]
  },
  {
   "cell_type": "code",
   "execution_count": 12,
   "metadata": {},
   "outputs": [
    {
     "data": {
      "text/plain": [
       "4"
      ]
     },
     "execution_count": 12,
     "metadata": {},
     "output_type": "execute_result"
    }
   ],
   "source": [
    "324%10"
   ]
  },
  {
   "cell_type": "code",
   "execution_count": null,
   "metadata": {},
   "outputs": [],
   "source": []
  }
 ],
 "metadata": {
  "interpreter": {
   "hash": "ac67a110c22b5a2dbfbee94e330edc65ab8c73ef4fe4729cecc84c9bf1ab600c"
  },
  "kernelspec": {
   "display_name": "Python 3.9.7 ('base')",
   "language": "python",
   "name": "python3"
  },
  "language_info": {
   "codemirror_mode": {
    "name": "ipython",
    "version": 3
   },
   "file_extension": ".py",
   "mimetype": "text/x-python",
   "name": "python",
   "nbconvert_exporter": "python",
   "pygments_lexer": "ipython3",
   "version": "3.9.7"
  },
  "orig_nbformat": 4
 },
 "nbformat": 4,
 "nbformat_minor": 2
}
