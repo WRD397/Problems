{
 "cells": [
  {
   "cell_type": "code",
   "execution_count": 14,
   "metadata": {},
   "outputs": [],
   "source": [
    "def Fibo(N):\n",
    "    num_1 = 0\n",
    "    num_2 = 1\n",
    "    num = 1\n",
    "    A = [num_1, num_2]\n",
    "   \n",
    "    while num < N:\n",
    "        A.append(num)\n",
    "        num_1 = num_2\n",
    "        num_2 = num\n",
    "        num = num_2 + num_1\n",
    "        \n",
    "    return A"
   ]
  },
  {
   "cell_type": "code",
   "execution_count": 15,
   "metadata": {},
   "outputs": [
    {
     "data": {
      "text/plain": [
       "[0, 1, 1, 2, 3, 5, 8, 13]"
      ]
     },
     "execution_count": 15,
     "metadata": {},
     "output_type": "execute_result"
    }
   ],
   "source": [
    "Fibo(20)"
   ]
  },
  {
   "cell_type": "markdown",
   "metadata": {},
   "source": [
    "### givrn some number N find whats the fibonacci number at that index"
   ]
  },
  {
   "cell_type": "code",
   "execution_count": 49,
   "metadata": {},
   "outputs": [],
   "source": [
    "def find_fibo(i = int):\n",
    "    a = 0\n",
    "    b = 1\n",
    "    for x in range(i-1): #as this code start from i=2nd index value...so we used i-1. so that even if we pass i = 2 the loop runs \n",
    "                        #for x=0 only and returns the 2nd index value...similarly for i = 3 , runs for x = 0, 1 and returns 3rd index value.\n",
    "        c = a + b\n",
    "        a = b\n",
    "        b = c\n",
    "    return c "
   ]
  },
  {
   "cell_type": "code",
   "execution_count": 50,
   "metadata": {},
   "outputs": [
    {
     "data": {
      "text/plain": [
       "3"
      ]
     },
     "execution_count": 50,
     "metadata": {},
     "output_type": "execute_result"
    }
   ],
   "source": [
    "find_fibo(4)"
   ]
  },
  {
   "cell_type": "markdown",
   "metadata": {},
   "source": [
    "### OR,"
   ]
  },
  {
   "cell_type": "code",
   "execution_count": 64,
   "metadata": {},
   "outputs": [],
   "source": [
    "def find_fibo2(A) :\n",
    "    fib = [0] * (A + 1)  ## creating an empty list of length 5\n",
    "    fib[1] = 1\n",
    "\n",
    "    for i in range(2, A + 1):\n",
    "        fib[i] = fib[i - 1] + fib[i - 2]\n",
    "\n",
    "    print(fib[A])\n"
   ]
  },
  {
   "cell_type": "code",
   "execution_count": 65,
   "metadata": {},
   "outputs": [
    {
     "name": "stdout",
     "output_type": "stream",
     "text": [
      "3\n"
     ]
    }
   ],
   "source": [
    "find_fibo2(4)"
   ]
  }
 ],
 "metadata": {
  "interpreter": {
   "hash": "ac67a110c22b5a2dbfbee94e330edc65ab8c73ef4fe4729cecc84c9bf1ab600c"
  },
  "kernelspec": {
   "display_name": "Python 3.9.7 ('base')",
   "language": "python",
   "name": "python3"
  },
  "language_info": {
   "codemirror_mode": {
    "name": "ipython",
    "version": 3
   },
   "file_extension": ".py",
   "mimetype": "text/x-python",
   "name": "python",
   "nbconvert_exporter": "python",
   "pygments_lexer": "ipython3",
   "version": "3.9.7"
  },
  "orig_nbformat": 4
 },
 "nbformat": 4,
 "nbformat_minor": 2
}
