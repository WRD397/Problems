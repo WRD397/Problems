{
 "cells": [
  {
   "cell_type": "markdown",
   "metadata": {},
   "source": [
    "<p>Problem Description :\n",
    "Given an array A of size N, Groot wants you to pick 2 indices i and j such that</p>\n",
    "<ul>\n",
    "<li>1 <= i, j <= N </li>\n",
    "<li>A[i] % A[j] is maximum among all possible pairs of (i, j). </li>\n",
    "</ul>\n",
    "<p>Help Groot in finding the maximum value of A[i] % A[j] for some i, j.</p>"
   ]
  },
  {
   "cell_type": "code",
   "execution_count": 1,
   "metadata": {},
   "outputs": [],
   "source": [
    "def solve(A):\n",
    "        n = len(A)\n",
    "        flag = 0\n",
    "        #sort the array\n",
    "        A.sort()\n",
    "        #keep the pointer at the end of the array\n",
    "        i = n - 1\n",
    "        # keep going backwards until we dont find a different element\n",
    "        while(flag == 0 and i != 0):\n",
    "            if(A[i] == A[i-1]):\n",
    "                i -= 1\n",
    "            else:\n",
    "                flag = 1\n",
    "        #if we find a different element before reaching the end of the array, print the element at the index before that\n",
    "        #else return 0 because in that case all the elements are same and no matter which indices we choose, the answer will always be 0\n",
    "        if(i != 0):\n",
    "            return A[i-1]\n",
    "        else:\n",
    "            return 0"
   ]
  },
  {
   "cell_type": "code",
   "execution_count": 2,
   "metadata": {},
   "outputs": [
    {
     "data": {
      "text/plain": [
       "3"
      ]
     },
     "execution_count": 2,
     "metadata": {},
     "output_type": "execute_result"
    }
   ],
   "source": [
    "A = [1, 2, 44, 3]\n",
    "solve(A)"
   ]
  },
  {
   "cell_type": "markdown",
   "metadata": {},
   "source": [
    "Explanation :  For i = 3, j = 2  A[i] % A[j] = 3 % 44 = 3.\n",
    " No pair exists which has more value than 3."
   ]
  }
 ],
 "metadata": {
  "interpreter": {
   "hash": "ac67a110c22b5a2dbfbee94e330edc65ab8c73ef4fe4729cecc84c9bf1ab600c"
  },
  "kernelspec": {
   "display_name": "Python 3.9.7 ('base')",
   "language": "python",
   "name": "python3"
  },
  "language_info": {
   "codemirror_mode": {
    "name": "ipython",
    "version": 3
   },
   "file_extension": ".py",
   "mimetype": "text/x-python",
   "name": "python",
   "nbconvert_exporter": "python",
   "pygments_lexer": "ipython3",
   "version": "3.9.7"
  },
  "orig_nbformat": 4
 },
 "nbformat": 4,
 "nbformat_minor": 2
}
