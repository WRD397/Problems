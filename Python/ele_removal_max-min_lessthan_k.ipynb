{
 "cells": [
  {
   "cell_type": "markdown",
   "metadata": {},
   "source": [
    "<p>Given N integers and K, find the minimum number of elements that should be removed, such that Amax-Amin<=K. After the removal of elements, Amax and Amin is considered among the remaining elements. </p>\n",
    "<p><b>Approach :</b></p>\n",
    "<p>Sort the given elements. Using the greedy approach, the best way is to remove the minimum element or the maximum element and then check if Amax-Amin <= K. There are various combinations of removals that have to be considered. We write a recurrence relation to try every possible combination. There will be two possible ways of removal, either we remove the minimum or we remove the maximum. Let(i…j) be the index of elements left after removal of elements. Initially, we start with i=0 and j=n-1 and the number of elements removed is 0 at the beginning. We only remove an element if a[j]-a[i]>k, the two possible ways of removal are (i+1…j) or (i…j-1). The minimum of the two is considered. \n",
    "Let DPi, j be the number of elements that need to be removed so that after removal a[j]-a[i]<=k. \n",
    "\n",
    "Recurrence relation for sorted array:  \n",
    "\n",
    "DPi, j = 1+ (min(countRemovals(i+1, j), countRemovals(i, j-1))</p>"
   ]
  },
  {
   "cell_type": "code",
   "execution_count": 1,
   "metadata": {},
   "outputs": [
    {
     "name": "stdout",
     "output_type": "stream",
     "text": [
      "5\n"
     ]
    }
   ],
   "source": [
    "# Python program to find\n",
    "# minimum removals to\n",
    "# make max-min <= K\n",
    "MAX = 100\n",
    "dp = [[0 for i in range(MAX)]\n",
    "\t\tfor i in range(MAX)]\n",
    "for i in range(0, MAX) :\n",
    "\tfor j in range(0, MAX) :\n",
    "\t\tdp[i][j] = -1\n",
    "\n",
    "# function to check all\n",
    "# possible combinations\n",
    "# of removal and return\n",
    "# the minimum one\n",
    "def countRemovals(a, i, j, k) :\n",
    "\n",
    "\tglobal dp\n",
    "\t\n",
    "\t# base case when all\n",
    "\t# elements are removed\n",
    "\tif (i >= j) :\n",
    "\t\treturn 0\n",
    "\n",
    "\t# if condition is satisfied,\n",
    "\t# no more removals are required\n",
    "\telif ((a[j] - a[i]) <= k) :\n",
    "\t\treturn 0\n",
    "\n",
    "\t# if the state has\n",
    "\t# already been visited\n",
    "\telif (dp[i][j] != -1) :\n",
    "\t\treturn dp[i][j]\n",
    "\n",
    "\t# when Amax-Amin>d\n",
    "\telif ((a[j] - a[i]) > k) :\n",
    "\n",
    "\t\t# minimum is taken of\n",
    "\t\t# the removal of minimum\n",
    "\t\t# element or removal of\n",
    "\t\t# the maximum element\n",
    "\t\tdp[i][j] = 1 + min(countRemovals(a, i + 1,\n",
    "\t\t\t\t\t\t\t\t\t\tj, k),\n",
    "\t\t\t\t\t\tcountRemovals(a, i,\n",
    "\t\t\t\t\t\t\t\t\t\tj - 1, k))\n",
    "\treturn dp[i][j]\n",
    "\n",
    "# To sort the array\n",
    "# and return the answer\n",
    "def removals(a, n, k) :\n",
    "\n",
    "\t# sort the array\n",
    "\ta.sort()\n",
    "\n",
    "\t# fill all stated\n",
    "\t# with -1 when only\n",
    "\t# one element\n",
    "\tif (n == 1) :\n",
    "\t\treturn 0\n",
    "\telse :\n",
    "\t\treturn countRemovals(a, 0,\n",
    "\t\t\t\t\t\t\tn - 1, k)\n",
    "\n",
    "# Driver Code\n",
    "a = [1, 3, 4, 9, 10, 11, 12, 17, 20]\n",
    "n = len(a)\n",
    "k = 4\n",
    "print (removals(a, n, k))\n"
   ]
  },
  {
   "cell_type": "markdown",
   "metadata": {},
   "source": [
    "<p> Explanation: Remove 1, 3, 4 from beginning \n",
    "and 17, 20 from the end.</p>"
   ]
  },
  {
   "cell_type": "markdown",
   "metadata": {},
   "source": [
    "## better approach"
   ]
  },
  {
   "cell_type": "markdown",
   "metadata": {},
   "source": [
    "<p>Space Optimised Approach :\n",
    "\n",
    "The solution could be further optimized. It can be done in Auxiliary Space: O(1). The idea is to first sort the array in ascending order. The keep 2 pointers, say i and j, where j iterates from index 1 to index n-1 and keeps track of ending subarray with the difference in max and min less than k, and i keeps the track of starting index of the subarray. If we find that a[j] – a[i[ <=k (means the i to j subarray is valid) we update the length from i to j in a variable to track of max length so far. Else, we update the starting index i with i+1. \n",
    "\n",
    "At first it seems that subarrays from i to j are ignored, but obviously their lengths are less than i to j subarray, so we don’t care about them.</p>"
   ]
  },
  {
   "cell_type": "code",
   "execution_count": 2,
   "metadata": {},
   "outputs": [
    {
     "name": "stdout",
     "output_type": "stream",
     "text": [
      "5\n"
     ]
    }
   ],
   "source": [
    "# Python program for the above approach\n",
    "def removal(a, n, k):\n",
    "\t# sort the array\n",
    "\ta.sort()\n",
    "\t# to store the max length of\n",
    "\t# array with difference <= k\n",
    "\tmaxLen = 0\n",
    "\t# pointer to keep track of starting of each subarray\n",
    "\ti = 0\n",
    "\tfor j in range(i+1, n):\n",
    "\t\t# if the subarray from i to j index is valid\n",
    "\t\t# the store it's length\n",
    "\t\tif a[j]-a[i] <= k:\n",
    "\t\t\tmaxLen = max(maxLen, j-i+1)\n",
    "\t\t# if subarray difference exceeds k\n",
    "\t\t# change starting position, i.e. i\n",
    "\t\telse:\n",
    "\t\t\ti = i+1\n",
    "\t\t\t\n",
    "\t\tif i >= n:\n",
    "\t\t\tbreak\n",
    "\tremove = n-maxLen\n",
    "\treturn remove\n",
    "\n",
    "\n",
    "# Driver Code\n",
    "a = [1, 3, 4, 9, 10, 11, 12, 17, 20]\n",
    "n = len(a)\n",
    "k = 4\n",
    "\n",
    "print(removal(a, n, k))\n"
   ]
  },
  {
   "cell_type": "markdown",
   "metadata": {},
   "source": [
    "<p>Time Complexity: O(nlogn) For sorting the array, we require O(nlogn) time, and no extra space. And for calculating we only traverse the loop once, thus it has O(n) time complexity. So, overall time complexity is O(nlogn).\n",
    "\n",
    "Auxiliary Space: O(1)</p>"
   ]
  }
 ],
 "metadata": {
  "interpreter": {
   "hash": "ac67a110c22b5a2dbfbee94e330edc65ab8c73ef4fe4729cecc84c9bf1ab600c"
  },
  "kernelspec": {
   "display_name": "Python 3.9.7 ('base')",
   "language": "python",
   "name": "python3"
  },
  "language_info": {
   "codemirror_mode": {
    "name": "ipython",
    "version": 3
   },
   "file_extension": ".py",
   "mimetype": "text/x-python",
   "name": "python",
   "nbconvert_exporter": "python",
   "pygments_lexer": "ipython3",
   "version": "3.9.7"
  },
  "orig_nbformat": 4
 },
 "nbformat": 4,
 "nbformat_minor": 2
}
