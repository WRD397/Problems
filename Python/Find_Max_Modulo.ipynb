{
 "cells": [
  {
   "cell_type": "code",
   "execution_count": 2,
   "metadata": {},
   "outputs": [],
   "source": [
    "def solve(A):\n",
    "    n = len(A)\n",
    "    flag = 0\n",
    "        #sort the array\n",
    "    A.sort()\n",
    "        #keep the pointer at the end of the array\n",
    "    i = n - 1\n",
    "        # keep going backwards until we dont find a different element\n",
    "    while(flag == 0 and i != 0):\n",
    "        if(A[i] == A[i-1]):\n",
    "            i -= 1\n",
    "        else:\n",
    "            flag = 1\n",
    "        #if we find a different element before reaching the end of the array, print the element at the index before that\n",
    "        #else return 0 because in that case all the elements are same and no matter which indices we choose, the answer will always be 0\n",
    "        if(i != 0):\n",
    "            return A[i-1]\n",
    "        else:\n",
    "            return 0"
   ]
  },
  {
   "cell_type": "code",
   "execution_count": 3,
   "metadata": {},
   "outputs": [
    {
     "data": {
      "text/plain": [
       "3"
      ]
     },
     "execution_count": 3,
     "metadata": {},
     "output_type": "execute_result"
    }
   ],
   "source": [
    "A = [1,2,44,3]\n",
    "solve(A)"
   ]
  },
  {
   "cell_type": "markdown",
   "metadata": {},
   "source": [
    "another"
   ]
  },
  {
   "cell_type": "code",
   "execution_count": 5,
   "metadata": {},
   "outputs": [],
   "source": [
    "# Python3 program to find sub-array\n",
    "# having maximum sum of elements modulo m.\n",
    "\n",
    "# Return the maximum sum subarray mod m.\n",
    "def maxSubarray(arr, n, m):\n",
    "\n",
    "\tx = 0\n",
    "\tprefix = 0\n",
    "\tmaxim = 0\n",
    "\n",
    "\tS = set()\n",
    "\tS.add(0)\t\n",
    "\n",
    "\t# Traversing the array.\n",
    "\tfor i in range(n):\n",
    "\n",
    "\t\t# Finding prefix sum.\n",
    "\t\tprefix = (prefix + arr[i]) % m\n",
    "\n",
    "\t\t# Finding maximum of prefix sum.\n",
    "\t\tmaxim = max(maxim, prefix)\n",
    "\n",
    "\t\t# Finding iterator pointing to the first\n",
    "\t\t# element that is not less than value\n",
    "\t\t# \"prefix + 1\", i.e., greater than or\n",
    "\t\t# equal to this value.\n",
    "\t\tit = 0\n",
    "\t\tfor i in S:\n",
    "\t\t\tif i >= prefix + 1:\n",
    "\t\t\t\tit = i\n",
    "\t\tif (it != 0) :\n",
    "\t\t\t\tmaxim = max(maxim, prefix - it + m )\n",
    "\n",
    "\t\t# adding prefix in the set.\n",
    "\t\tS.add(prefix)\n",
    "\n",
    "\treturn maxim\n",
    "\n",
    "\n"
   ]
  },
  {
   "cell_type": "code",
   "execution_count": 6,
   "metadata": {},
   "outputs": [
    {
     "name": "stdout",
     "output_type": "stream",
     "text": [
      "6\n"
     ]
    }
   ],
   "source": [
    "arr = [3, 3, 9, 9, 5]\n",
    "n = 5\n",
    "m = 7\n",
    "print(maxSubarray(arr, n, m))"
   ]
  }
 ],
 "metadata": {
  "interpreter": {
   "hash": "ac67a110c22b5a2dbfbee94e330edc65ab8c73ef4fe4729cecc84c9bf1ab600c"
  },
  "kernelspec": {
   "display_name": "Python 3.9.7 ('base')",
   "language": "python",
   "name": "python3"
  },
  "language_info": {
   "codemirror_mode": {
    "name": "ipython",
    "version": 3
   },
   "file_extension": ".py",
   "mimetype": "text/x-python",
   "name": "python",
   "nbconvert_exporter": "python",
   "pygments_lexer": "ipython3",
   "version": "3.9.7"
  },
  "orig_nbformat": 4
 },
 "nbformat": 4,
 "nbformat_minor": 2
}
