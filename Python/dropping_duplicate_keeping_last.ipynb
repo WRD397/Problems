{
 "cells": [
  {
   "cell_type": "markdown",
   "metadata": {},
   "source": [
    "Given a data frame consisting of Name, employment_type, department, and p_id for employees, complete the function del_dupl() that first deletes the records with a specific given name, where name is a string that needs to be deleted because this guy has left the organization, then deletes the column p_id as the organization is moving to another fintech app and return a data frame that consists of the latest employment details of the candidates without duplicate Names.\n",
    "\n",
    "There are no two guys with the same name in the organization, if there are records with the same name then it should be assumed that the person has updated his profile (designation) in the organization."
   ]
  },
  {
   "cell_type": "code",
   "execution_count": null,
   "metadata": {},
   "outputs": [],
   "source": []
  }
 ],
 "metadata": {
  "language_info": {
   "name": "python"
  },
  "orig_nbformat": 4
 },
 "nbformat": 4,
 "nbformat_minor": 2
}
