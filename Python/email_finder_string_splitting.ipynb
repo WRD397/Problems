{
 "cells": [
  {
   "cell_type": "markdown",
   "metadata": {},
   "source": [
    "Given a list of email addresses, return a list containing only valid email addresses in lexicographical order. A Valid email address must follow the following rules:<br>\n",
    "<ul>\n",
    "It is of the form user@domain.com, user or domain can't be empty<br>\n",
    "It must have a single @ in the address.<br>\n",
    "The maximum length of the name before @ should be 20.<br>\n",
    "</ul>"
   ]
  },
  {
   "cell_type": "code",
   "execution_count": 10,
   "metadata": {},
   "outputs": [],
   "source": [
    "emails = ['sara@scaler.com', 'brian-23@scaler.com', 'brute_54@scaler.com']"
   ]
  },
  {
   "cell_type": "code",
   "execution_count": 11,
   "metadata": {},
   "outputs": [],
   "source": [
    "valid_emails = []\n",
    "for email in emails:\n",
    "    at_number = len(email.split('@'))\n",
    "    before_at = len(email.split('@')[0])\n",
    "    domain_com = email.split('@')[0].split('.')[0]\n",
    "\n",
    "    if (at_number == 2) & (before_at <= 20) & (len(domain_com) != 0):\n",
    "        valid_emails.append(email)\n",
    "        valid_emails.sort()"
   ]
  },
  {
   "cell_type": "code",
   "execution_count": 12,
   "metadata": {},
   "outputs": [
    {
     "name": "stdout",
     "output_type": "stream",
     "text": [
      "['brian-23@scaler.com', 'brute_54@scaler.com', 'sara@scaler.com']\n"
     ]
    }
   ],
   "source": [
    "print(valid_emails)"
   ]
  },
  {
   "cell_type": "markdown",
   "metadata": {},
   "source": [
    "Or,"
   ]
  },
  {
   "cell_type": "code",
   "execution_count": null,
   "metadata": {},
   "outputs": [],
   "source": [
    "verified_lex = list(sorted(filter(lambda x:x if(len(x.split('@')[0])<=20 and x.count('@')==1) else None, emails)))"
   ]
  }
 ],
 "metadata": {
  "interpreter": {
   "hash": "ac67a110c22b5a2dbfbee94e330edc65ab8c73ef4fe4729cecc84c9bf1ab600c"
  },
  "kernelspec": {
   "display_name": "Python 3.9.7 ('base')",
   "language": "python",
   "name": "python3"
  },
  "language_info": {
   "codemirror_mode": {
    "name": "ipython",
    "version": 3
   },
   "file_extension": ".py",
   "mimetype": "text/x-python",
   "name": "python",
   "nbconvert_exporter": "python",
   "pygments_lexer": "ipython3",
   "version": "3.9.7"
  },
  "orig_nbformat": 4
 },
 "nbformat": 4,
 "nbformat_minor": 2
}
