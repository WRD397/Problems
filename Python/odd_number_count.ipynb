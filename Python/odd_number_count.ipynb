{
 "cells": [
  {
   "cell_type": "markdown",
   "metadata": {},
   "source": [
    "<p>Given two non-negative integers low and high. Return the count of odd numbers between low and high (inclusive).</p>\n",
    "<p><b>Example</b><p>\n",
    "<p>Input: low = 3, high = 7</p>\n",
    "<p>Output: 3</p>\n",
    "<p>Explanation: The odd numbers between 3 and 7 are [3,5,7].</p>"
   ]
  },
  {
   "cell_type": "code",
   "execution_count": 1,
   "metadata": {},
   "outputs": [],
   "source": [
    "def countOdds(low: int, high: int) -> int:\n",
    "        \n",
    "        def count_odd_odd(a,b):\n",
    "            count_odd_odd = ((a - b) // 2) + 1\n",
    "            return count_odd_odd\n",
    "        \n",
    "        if (low % 2 != 0) & (high % 2 != 0): return count_odd_odd(high,low)\n",
    "        elif (low % 2 == 0): \n",
    "            low += 1\n",
    "            return count_odd_odd(high,low)\n",
    "        elif (high % 2 == 0):\n",
    "            high -= 1\n",
    "            return count_odd_odd(high,low)"
   ]
  },
  {
   "cell_type": "code",
   "execution_count": 2,
   "metadata": {},
   "outputs": [
    {
     "name": "stdout",
     "output_type": "stream",
     "text": [
      "5\n",
      "7\n",
      "3\n"
     ]
    }
   ],
   "source": [
    "print(countOdds(2,11))\n",
    "print(countOdds(5,18))\n",
    "print(countOdds(1,5))"
   ]
  }
 ],
 "metadata": {
  "interpreter": {
   "hash": "ac67a110c22b5a2dbfbee94e330edc65ab8c73ef4fe4729cecc84c9bf1ab600c"
  },
  "kernelspec": {
   "display_name": "Python 3.9.7 ('base')",
   "language": "python",
   "name": "python3"
  },
  "language_info": {
   "codemirror_mode": {
    "name": "ipython",
    "version": 3
   },
   "file_extension": ".py",
   "mimetype": "text/x-python",
   "name": "python",
   "nbconvert_exporter": "python",
   "pygments_lexer": "ipython3",
   "version": "3.9.7"
  },
  "orig_nbformat": 4
 },
 "nbformat": 4,
 "nbformat_minor": 2
}
