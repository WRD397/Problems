{
 "cells": [
  {
   "cell_type": "markdown",
   "metadata": {},
   "source": [
    "<p>Sometimes, we need to find the specific problem of getting the pair which yields the maximum remainder. In some case, we don’t with to change the ordering of list and perform some operation in the similar list without using extra space. Let’s discuss certain ways in which this can be performed.</p>\n",
    "<p>Method #1 : Using list comprehension + max() + combination() + lambda\n",
    "This particular task can be performed using the combination of above functions in which we use list comprehension to bind all the functionalities and max function to get the maximum modulo, combination function finds all remainders internally and lambda function is used to compute the modulo.</p>"
   ]
  },
  {
   "cell_type": "code",
   "execution_count": 1,
   "metadata": {},
   "outputs": [
    {
     "name": "stdout",
     "output_type": "stream",
     "text": [
      "The original list : [3, 4, 1, 7, 9, 1]\n",
      "The maximum remainder pair is : (7, 9)\n"
     ]
    }
   ],
   "source": [
    "# Python3 code to demonstrate\n",
    "# Maximum modulo pair\n",
    "# using list comprehension + max() + combinations() + lambda\n",
    "from itertools import combinations\n",
    "\n",
    "# initializing list\n",
    "test_list = [3, 4, 1, 7, 9, 1]\n",
    "\n",
    "# printing original list\n",
    "print(\"The original list : \" + str(test_list))\n",
    "\n",
    "# using list comprehension + max() + combinations() + lambda\n",
    "# Maximum modulo pair\n",
    "res = max(combinations(test_list, 2), key = lambda sub: sub[0] % sub[1])\n",
    "\n",
    "# print result\n",
    "print(\"The maximum remainder pair is : \" + str(res))\n"
   ]
  },
  {
   "cell_type": "markdown",
   "metadata": {},
   "source": [
    "<p>Method #2 : Using list comprehension + nlargest() + combination() + lambda\n",
    "This method has potential of not only finding a single maximum but also k maximum modulo pairs if required and uses nlargest function instead of max function to achieve this functionality.</p>"
   ]
  },
  {
   "cell_type": "code",
   "execution_count": 2,
   "metadata": {},
   "outputs": [
    {
     "name": "stdout",
     "output_type": "stream",
     "text": [
      "The original list : [3, 4, 1, 7, 9, 8]\n",
      "The maximum remainder pair is : [(7, 9), (7, 8)]\n"
     ]
    }
   ],
   "source": [
    "# Python3 code to demonstrate\n",
    "# Maximum modulo pair\n",
    "# using list comprehension + nlargest() + combinations() + lambda\n",
    "from itertools import combinations\n",
    "from heapq import nlargest\n",
    "\n",
    "# initializing list\n",
    "test_list = [3, 4, 1, 7, 9, 8]\n",
    "\n",
    "# printing original list\n",
    "print(\"The original list : \" + str(test_list))\n",
    "\n",
    "# using list comprehension + max() + combinations() + lambda\n",
    "# Maximum modulo pair\n",
    "# computes 2 maximum pair remainders\n",
    "res = nlargest(2, combinations(test_list, 2), key = lambda sub: sub[0] % sub[1])\n",
    "\n",
    "# print result\n",
    "print(\"The maximum remainder pair is : \" + str(res))\n"
   ]
  }
 ],
 "metadata": {
  "interpreter": {
   "hash": "ac67a110c22b5a2dbfbee94e330edc65ab8c73ef4fe4729cecc84c9bf1ab600c"
  },
  "kernelspec": {
   "display_name": "Python 3.9.7 ('base')",
   "language": "python",
   "name": "python3"
  },
  "language_info": {
   "codemirror_mode": {
    "name": "ipython",
    "version": 3
   },
   "file_extension": ".py",
   "mimetype": "text/x-python",
   "name": "python",
   "nbconvert_exporter": "python",
   "pygments_lexer": "ipython3",
   "version": "3.9.7"
  },
  "orig_nbformat": 4
 },
 "nbformat": 4,
 "nbformat_minor": 2
}
