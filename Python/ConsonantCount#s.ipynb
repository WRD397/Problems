{
 "cells": [
  {
   "cell_type": "markdown",
   "metadata": {},
   "source": [
    "array('u', 'abcb')           #input was taken as 'abcd'(string) but then typcasted to array and passed to char_count()<br>\n",
    "ans :: There are three consonants in the array, b, c, and b. The unique consonants are 2, b, and c. Hence, the answer is 2."
   ]
  },
  {
   "cell_type": "markdown",
   "metadata": {},
   "source": [
    "Given a character array as an argument to the function char_count(), return the number of unique consonants present in the array."
   ]
  },
  {
   "cell_type": "code",
   "execution_count": 1,
   "metadata": {},
   "outputs": [],
   "source": [
    "def char_count(arr):\n",
    "    consonant_count = -1\n",
    "    vowels = ['a','e','i','o','u']\n",
    "    # Your code starts here\n",
    "    for i in range(len(arr)):\n",
    "        if arr[i] not in vowels:\n",
    "            if arr[i] not in arr[i+1:] : consonant_count += 1\n",
    "    \n",
    "    # Your code ends here\n",
    "    return consonant_count"
   ]
  },
  {
   "cell_type": "code",
   "execution_count": null,
   "metadata": {},
   "outputs": [],
   "source": []
  }
 ],
 "metadata": {
  "kernelspec": {
   "display_name": "Python 3.9.7 ('base')",
   "language": "python",
   "name": "python3"
  },
  "language_info": {
   "codemirror_mode": {
    "name": "ipython",
    "version": 3
   },
   "file_extension": ".py",
   "mimetype": "text/x-python",
   "name": "python",
   "nbconvert_exporter": "python",
   "pygments_lexer": "ipython3",
   "version": "3.9.7"
  },
  "orig_nbformat": 4,
  "vscode": {
   "interpreter": {
    "hash": "ac67a110c22b5a2dbfbee94e330edc65ab8c73ef4fe4729cecc84c9bf1ab600c"
   }
  }
 },
 "nbformat": 4,
 "nbformat_minor": 2
}
