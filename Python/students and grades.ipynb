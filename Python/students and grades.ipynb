{
 "cells": [
  {
   "cell_type": "markdown",
   "metadata": {},
   "source": [
    "Complete the Python function second_lowest() to find the second-lowest grade of students from the given names and grades of each student using lists and lambda function. For the input, the number of students, names, and the grades of each student were given."
   ]
  },
  {
   "cell_type": "markdown",
   "metadata": {},
   "source": [
    "Input<br>\n",
    "NumberOf Students<br>\n",
    "5 <br>    \n",
    "S ROY<br>    \n",
    "1<br>         \n",
    "B BOSE<br>\n",
    "3<br>\n",
    "N KAR<br>\n",
    "2<br>\n",
    "C DUTTA<br>\n",
    "1<br>\n",
    "G GHOSH<br>\n",
    "1<br>"
   ]
  },
  {
   "cell_type": "markdown",
   "metadata": {},
   "source": [
    "output<br>\n",
    "[['S ROY', 1.0], ['B BOSE', 3.0], ['N KAR', 2.0], ['C DUTTA', 1.0], ['G GHOSH', 1.0]]<br>\n",
    "2.0<br>\n",
    "N KAR<br>"
   ]
  },
  {
   "cell_type": "code",
   "execution_count": 1,
   "metadata": {},
   "outputs": [],
   "source": [
    "def second_lowest(students, scores):\n",
    "    '''\n",
    "    input:\n",
    "    students -> a list of students\n",
    "    scores -> list of the scores, with each score being that of the ith student\n",
    "    \n",
    "    output:\n",
    "    student_data -> 2d list of data, with each inner list having name of student as 1st and score of 2nd as second element respectively\n",
    "    second_low_score -> the second lowest score\n",
    "    second_names -> list of students with score same as second lowest score, in the same order as in the students list\n",
    "    '''\n",
    "    student_data, second_low_score, second_names = None, None, None\n",
    "    \n",
    "    # Your code starts here\n",
    "    \n",
    "    student_data = []\n",
    "    second_low_score = 0\n",
    "    for i in range(len(students)):\n",
    "      student_data.append([students[i],scores[i]])\n",
    "    order = sorted(student_data,key=lambda x: int(x[1]))\n",
    "    for i in range(len(students)):\n",
    "      if order[i][1] != order[0][1]:\n",
    "        second_low_score=order[i][1]\n",
    "        break\n",
    "    second_names=[x[0] for x in order if x[1] == second_low_score]\n",
    "    \n",
    "    # Your code ends here\n",
    "    return student_data, second_low_score, second_names"
   ]
  }
 ],
 "metadata": {
  "interpreter": {
   "hash": "ac67a110c22b5a2dbfbee94e330edc65ab8c73ef4fe4729cecc84c9bf1ab600c"
  },
  "kernelspec": {
   "display_name": "Python 3.9.7 ('base')",
   "language": "python",
   "name": "python3"
  },
  "language_info": {
   "codemirror_mode": {
    "name": "ipython",
    "version": 3
   },
   "file_extension": ".py",
   "mimetype": "text/x-python",
   "name": "python",
   "nbconvert_exporter": "python",
   "pygments_lexer": "ipython3",
   "version": "3.9.7"
  },
  "orig_nbformat": 4
 },
 "nbformat": 4,
 "nbformat_minor": 2
}
