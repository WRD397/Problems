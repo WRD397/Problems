{
 "cells": [
  {
   "cell_type": "markdown",
   "metadata": {},
   "source": [
    "Rishik likes to draw a lot. He starts at origin and chooses a single Y ordinate of each abscissa in [1-N] given in array A and then chooses 0 for N+1. He then joins each consecutive point with a straight line and found that he has drawn a masterpiece. But, It is incomplete without coloring.\n",
    "\n",
    "<p>So, he wants you to tell him the area of hills that he will color.</p>\n",
    "\n",
    "<p>Input Format</p>\n",
    "<p>First and only argument of input contains a single integer array A.</p>\n",
    "\n",
    "<p>Output Format</p>\n",
    "<p>Return a string denoting area of hills(with truncated/rounded down decimal).</p>"
   ]
  },
  {
   "cell_type": "code",
   "execution_count": 13,
   "metadata": {},
   "outputs": [],
   "source": [
    "def solve(A):\n",
    "    # calculating step size\n",
    "    h = (len(A)+1 - 0) / (len(A)+1)\n",
    "    \n",
    "    # Finding sum \n",
    "    integration = 0\n",
    "    \n",
    "    for a in A :\n",
    "        integration = integration + 2 * a\n",
    "    \n",
    "    # Finding final integration value\n",
    "    integration_final = integration * h/2\n",
    "    \n",
    "    return str(round(integration_final))"
   ]
  },
  {
   "cell_type": "code",
   "execution_count": 14,
   "metadata": {},
   "outputs": [
    {
     "data": {
      "text/plain": [
       "'6'"
      ]
     },
     "execution_count": 14,
     "metadata": {},
     "output_type": "execute_result"
    }
   ],
   "source": [
    "A = [2,1,3]\n",
    "solve(A)"
   ]
  }
 ],
 "metadata": {
  "interpreter": {
   "hash": "ac67a110c22b5a2dbfbee94e330edc65ab8c73ef4fe4729cecc84c9bf1ab600c"
  },
  "kernelspec": {
   "display_name": "Python 3.9.7 ('base')",
   "language": "python",
   "name": "python3"
  },
  "language_info": {
   "codemirror_mode": {
    "name": "ipython",
    "version": 3
   },
   "file_extension": ".py",
   "mimetype": "text/x-python",
   "name": "python",
   "nbconvert_exporter": "python",
   "pygments_lexer": "ipython3",
   "version": "3.9.7"
  },
  "orig_nbformat": 4
 },
 "nbformat": 4,
 "nbformat_minor": 2
}
